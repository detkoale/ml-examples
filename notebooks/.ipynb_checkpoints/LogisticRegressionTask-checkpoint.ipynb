{
 "cells": [
  {
   "cell_type": "code",
   "execution_count": 80,
   "metadata": {
    "collapsed": true
   },
   "outputs": [],
   "source": [
    "import pandas as pd\n",
    "import numpy as np\n",
    "from scipy.spatial import distance\n",
    "from sklearn.metrics import roc_auc_score"
   ]
  },
  {
   "cell_type": "code",
   "execution_count": 33,
   "metadata": {
    "collapsed": false
   },
   "outputs": [],
   "source": [
    "raw_data = pd.read_csv('data-logistic.csv', header=None)\n",
    "y = raw_data.iloc[:,0]\n",
    "x = raw_data.iloc[:,1:]"
   ]
  },
  {
   "cell_type": "code",
   "execution_count": 82,
   "metadata": {
    "collapsed": false
   },
   "outputs": [],
   "source": [
    "def gradientDescent(x,y, regularization = False, k=0.1):\n",
    "    w1 = 0\n",
    "    w2 = 0\n",
    "    l = int(y.size)\n",
    "    x1 = x.iloc[:,0]\n",
    "    x2 = x.iloc[:,1]\n",
    "    \n",
    "    if regularization == False:\n",
    "        C = 0\n",
    "    else: C = 10\n",
    "    \n",
    "    iter = 0\n",
    "    w_prev = (w1,w2)\n",
    "    while iter < 10000:\n",
    "        w1 = w1+k/l*np.sum(y[i]*x1[i]*(1-1/(1+np.exp(-y[i]*(w1*x1[i]+w2*x2[i])))) for i in np.arange(0,x1.size))-k*C*w1\n",
    "        w2 = w2+k/l*np.sum(y[i]*x2[i]*(1-1/(1+np.exp(-y[i]*(w1*x1[i]+w2*x2[i])))) for i in np.arange(0,x2.size))-k*C*w2\n",
    "        dst = distance.euclidean((w1,w2), w_prev)\n",
    "        #calculate euclide distance between current step weights and previous step weights\n",
    "        if dst <= 0.000001:\n",
    "            break\n",
    "        iter = iter + 1\n",
    "        #update previous weights array\n",
    "        w_prev = (w1,w2)\n",
    "    \n",
    "    print \"iterations executed:\",iter\n",
    "    \n",
    "    return w1,w2"
   ]
  },
  {
   "cell_type": "code",
   "execution_count": 77,
   "metadata": {
    "collapsed": false
   },
   "outputs": [],
   "source": [
    "\n",
    "#a = np.sum(x1[i] for i in np.arange(0,x1.size))\n",
    "#print a"
   ]
  },
  {
   "cell_type": "code",
   "execution_count": 79,
   "metadata": {
    "collapsed": false
   },
   "outputs": [
    {
     "name": "stdout",
     "output_type": "stream",
     "text": [
      "iterations executed: 329\n",
      "0.288078858876 0.091735863887\n"
     ]
    }
   ],
   "source": [
    "w1,w2 = gradientDescent(x,y)\n",
    "print w1,w2"
   ]
  },
  {
   "cell_type": "code",
   "execution_count": 81,
   "metadata": {
    "collapsed": false
   },
   "outputs": [
    {
     "name": "stdout",
     "output_type": "stream",
     "text": [
      "0.927\n"
     ]
    }
   ],
   "source": [
    "x1 = x.iloc[:,0]\n",
    "x2 = x.iloc[:,1]\n",
    "y_score = 1/(1+np.exp(-w1*x1-w2*x2))\n",
    "auc_score = roc_auc_score(y, y_score)\n",
    "print np.round(auc_score, 3)"
   ]
  },
  {
   "cell_type": "code",
   "execution_count": 83,
   "metadata": {
    "collapsed": false
   },
   "outputs": [
    {
     "name": "stdout",
     "output_type": "stream",
     "text": [
      "iterations executed: 6\n",
      "0.936\n"
     ]
    }
   ],
   "source": [
    "w1,w2 = gradientDescent(x,y,True)\n",
    "y_score = 1/(1+np.exp(-w1*x1-w2*x2))\n",
    "auc_score = roc_auc_score(y,y_score)\n",
    "print np.round(auc_score, 3)"
   ]
  },
  {
   "cell_type": "code",
   "execution_count": null,
   "metadata": {
    "collapsed": true
   },
   "outputs": [],
   "source": []
  }
 ],
 "metadata": {
  "anaconda-cloud": {},
  "kernelspec": {
   "display_name": "Python [conda root]",
   "language": "python",
   "name": "conda-root-py"
  },
  "language_info": {
   "codemirror_mode": {
    "name": "ipython",
    "version": 2
   },
   "file_extension": ".py",
   "mimetype": "text/x-python",
   "name": "python",
   "nbconvert_exporter": "python",
   "pygments_lexer": "ipython2",
   "version": "2.7.12"
  }
 },
 "nbformat": 4,
 "nbformat_minor": 0
}
