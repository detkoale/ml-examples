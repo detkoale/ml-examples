{
 "cells": [
  {
   "cell_type": "code",
   "execution_count": 16,
   "metadata": {
    "collapsed": false
   },
   "outputs": [],
   "source": [
    "import pandas as pd\n",
    "import numpy as np\n",
    "from sklearn.metrics import confusion_matrix\n",
    "from sklearn.metrics import accuracy_score\n",
    "from sklearn.metrics import precision_score\n",
    "from sklearn.metrics import recall_score\n",
    "from sklearn.metrics import f1_score\n",
    "from sklearn.metrics import roc_auc_score\n",
    "from sklearn.metrics import precision_recall_curve\n",
    "import matplotlib.pyplot as plt\n",
    "%matplotlib inline"
   ]
  },
  {
   "cell_type": "code",
   "execution_count": 2,
   "metadata": {
    "collapsed": false
   },
   "outputs": [
    {
     "name": "stdout",
     "output_type": "stream",
     "text": [
      "     true  pred\n",
      "0       1     0\n",
      "1       1     1\n",
      "2       1     1\n",
      "3       0     0\n",
      "4       1     1\n",
      "5       1     1\n",
      "6       1     1\n",
      "7       0     1\n",
      "8       0     0\n",
      "9       0     1\n",
      "10      1     0\n",
      "11      0     1\n",
      "12      1     1\n",
      "13      0     1\n",
      "14      0     0\n",
      "15      0     1\n",
      "16      1     1\n",
      "17      0     1\n",
      "18      0     0\n",
      "19      0     0\n",
      "20      0     1\n",
      "21      1     1\n",
      "22      1     1\n",
      "23      1     0\n",
      "24      0     0\n",
      "25      0     0\n",
      "26      1     1\n",
      "27      1     1\n",
      "28      0     0\n",
      "29      1     0\n",
      "..    ...   ...\n",
      "170     1     1\n",
      "171     0     0\n",
      "172     0     0\n",
      "173     0     0\n",
      "174     0     0\n",
      "175     0     0\n",
      "176     1     0\n",
      "177     0     1\n",
      "178     0     0\n",
      "179     1     0\n",
      "180     0     1\n",
      "181     0     0\n",
      "182     0     0\n",
      "183     1     0\n",
      "184     0     1\n",
      "185     0     0\n",
      "186     1     0\n",
      "187     1     0\n",
      "188     0     0\n",
      "189     1     0\n",
      "190     1     0\n",
      "191     1     0\n",
      "192     1     0\n",
      "193     1     1\n",
      "194     1     0\n",
      "195     0     0\n",
      "196     0     0\n",
      "197     1     0\n",
      "198     0     1\n",
      "199     0     0\n",
      "\n",
      "[200 rows x 2 columns]\n"
     ]
    }
   ],
   "source": [
    "data = pd.read_csv(\"classification.csv\")\n",
    "print(data)"
   ]
  },
  {
   "cell_type": "code",
   "execution_count": 3,
   "metadata": {
    "collapsed": true
   },
   "outputs": [],
   "source": [
    "cnf_matrix = confusion_matrix(data['true'], data['pred'])\n",
    "TN = cnf_matrix[0][0]\n",
    "FN = cnf_matrix[1][0]\n",
    "TP = cnf_matrix[1][1]\n",
    "FP = cnf_matrix[0][1]"
   ]
  },
  {
   "cell_type": "code",
   "execution_count": 7,
   "metadata": {
    "collapsed": false
   },
   "outputs": [
    {
     "name": "stdout",
     "output_type": "stream",
     "text": [
      "0.54 0.56 0.42 0.48\n"
     ]
    }
   ],
   "source": [
    "Accuracy = accuracy_score(data['true'], data['pred'])\n",
    "Precision = precision_score(data['true'], data['pred'])\n",
    "Recall = recall_score(data['true'], data['pred'])\n",
    "F_metric = f1_score(data['true'], data['pred'])\n",
    "print round(Accuracy,2), round(Precision,2), round(Recall, 2), round(F_metric, 2)"
   ]
  },
  {
   "cell_type": "code",
   "execution_count": 25,
   "metadata": {
    "collapsed": false
   },
   "outputs": [
    {
     "name": "stdout",
     "output_type": "stream",
     "text": [
      "     true  score_logreg  score_svm  score_knn  score_tree\n",
      "0       0      0.683832   0.145976   0.787063    0.500000\n",
      "1       1      0.801966   0.239511   1.000000    0.833333\n",
      "2       0      0.382315  -0.245701   0.000000    0.000000\n",
      "3       1      0.506797  -0.137058   0.000000    0.105263\n",
      "4       1      0.488781  -0.154148   0.000000    0.105263\n",
      "5       0      0.108506  -0.790864   0.000000    0.000000\n",
      "6       0      0.413749  -0.185143   0.283053    0.363636\n",
      "7       0      0.961081   0.830973   1.000000    1.000000\n",
      "8       0      0.055733  -0.872805   0.000000    0.100000\n",
      "9       0      0.168708  -0.518390   0.000000    0.100000\n",
      "10      1      0.504716  -0.103459   0.698631    0.833333\n",
      "11      1      0.700781   0.104391   1.000000    0.833333\n",
      "12      0      0.310665  -0.301488   0.676880    0.363636\n",
      "13      0      0.784460   0.195189   1.000000    0.923077\n",
      "14      0      0.160733  -0.611195   0.655103    0.315789\n",
      "15      1      0.799574   0.331874   1.000000    1.000000\n",
      "16      0      0.582998  -0.089084   0.435303    0.923077\n",
      "17      1      0.814842   0.283855   0.551823    0.833333\n",
      "18      0      0.157332  -0.631128   0.572756    0.315789\n",
      "19      1      0.931500   0.708483   1.000000    1.000000\n",
      "20      0      0.138797  -0.686697   0.000000    0.315789\n",
      "21      1      0.274198  -0.431631   0.797432    0.642857\n",
      "22      0      0.720033   0.230868   0.701967    0.700000\n",
      "23      1      0.843546   0.355761   1.000000    1.000000\n",
      "24      0      0.609126   0.084097   1.000000    0.700000\n",
      "25      1      0.880773   0.423232   1.000000    1.000000\n",
      "26      0      0.239080  -0.373287   0.625865    0.363636\n",
      "27      0      0.305787  -0.342313   0.000000    0.000000\n",
      "28      1      0.543229  -0.093911   0.000000    0.105263\n",
      "29      1      0.074923  -0.875135   0.356250    0.000000\n",
      "..    ...           ...        ...        ...         ...\n",
      "170     1      0.963559   0.919219   1.000000    1.000000\n",
      "171     0      0.358193  -0.277359   0.000000    0.000000\n",
      "172     1      0.728585   0.162791   1.000000    0.833333\n",
      "173     0      0.956966   0.791260   1.000000    1.000000\n",
      "174     1      0.921236   0.587108   0.636871    0.700000\n",
      "175     1      0.488522  -0.179402   0.723928    0.400000\n",
      "176     1      0.634594  -0.000936   0.329428    0.400000\n",
      "177     0      0.212360  -0.445750   0.000000    0.100000\n",
      "178     0      0.546161  -0.079479   0.280409    0.105263\n",
      "179     1      0.816888   0.275750   0.629734    0.833333\n",
      "180     1      0.936342   0.700641   1.000000    1.000000\n",
      "181     1      0.345238  -0.254075   0.815816    0.363636\n",
      "182     1      0.775077   0.226086   1.000000    0.833333\n",
      "183     0      0.784289   0.240379   1.000000    0.833333\n",
      "184     0      0.391728  -0.328802   0.000000    0.400000\n",
      "185     1      0.446609  -0.163247   0.000000    0.363636\n",
      "186     1      0.369691  -0.263503   0.298588    0.000000\n",
      "187     0      0.373856  -0.307583   0.000000    0.105263\n",
      "188     1      0.101603  -0.707600   0.000000    0.100000\n",
      "189     0      0.592363  -0.051362   0.000000    0.400000\n",
      "190     0      0.282557  -0.393812   0.000000    0.000000\n",
      "191     1      0.850252   0.358618   1.000000    1.000000\n",
      "192     0      0.563431  -0.072862   0.000000    0.400000\n",
      "193     0      0.255245  -0.447265   0.650820    0.315789\n",
      "194     1      0.903727   0.531599   0.000000    0.700000\n",
      "195     0      0.573801  -0.088203   0.284192    0.400000\n",
      "196     0      0.624422  -0.012315   0.205437    0.400000\n",
      "197     1      0.425538  -0.135673   0.382351    0.700000\n",
      "198     0      0.905270   0.583806   1.000000    1.000000\n",
      "199     0      0.275594  -0.422160   0.743567    0.642857\n",
      "\n",
      "[200 rows x 5 columns]\n"
     ]
    }
   ],
   "source": [
    "scores_data = pd.read_csv('scores.csv')\n",
    "#print scores_data"
   ]
  },
  {
   "cell_type": "code",
   "execution_count": 26,
   "metadata": {
    "collapsed": false
   },
   "outputs": [
    {
     "name": "stdout",
     "output_type": "stream",
     "text": [
      "0.72 0.71 0.64 0.69\n"
     ]
    }
   ],
   "source": [
    "logreg_score = roc_auc_score(scores_data['true'], scores_data['score_logreg'])\n",
    "svm_score = roc_auc_score(scores_data['true'], scores_data['score_svm'])\n",
    "knn_score = roc_auc_score(scores_data['true'], scores_data['score_knn'])\n",
    "tree_score = roc_auc_score(scores_data['true'], scores_data['score_tree'])\n",
    "print round(logreg_score, 2), round(svm_score, 2), round(knn_score,2), round(tree_score, 2)"
   ]
  },
  {
   "cell_type": "code",
   "execution_count": 27,
   "metadata": {
    "collapsed": false
   },
   "outputs": [],
   "source": [
    "logreg_precision = precision_recall_curve(scores_data['true'], scores_data['score_logreg'])\n",
    "#print logreg_precision\n",
    "#print len(logreg_precision[0])"
   ]
  },
  {
   "cell_type": "code",
   "execution_count": 28,
   "metadata": {
    "collapsed": false
   },
   "outputs": [
    {
     "name": "stdout",
     "output_type": "stream",
     "text": [
      "0.63025210084\n"
     ]
    }
   ],
   "source": [
    "max_logreg_prec_score = max(logreg_precision[0][i] for i in np.arange(0,len(logreg_precision[0])) if logreg_precision[1][i] >= 0.7)\n",
    "print max_logreg_prec_score"
   ]
  },
  {
   "cell_type": "code",
   "execution_count": 29,
   "metadata": {
    "collapsed": false
   },
   "outputs": [
    {
     "name": "stdout",
     "output_type": "stream",
     "text": [
      "0.622807017544\n"
     ]
    }
   ],
   "source": [
    "svm_prec = precision_recall_curve(scores_data['true'], scores_data['score_svm'])\n",
    "max_svm_prec_score = max(svm_prec[0][i] for i in np.arange(0,len(svm_prec[0])) if svm_prec[1][i] >= 0.7)\n",
    "print max_svm_prec_score"
   ]
  },
  {
   "cell_type": "code",
   "execution_count": 30,
   "metadata": {
    "collapsed": false
   },
   "outputs": [
    {
     "name": "stdout",
     "output_type": "stream",
     "text": [
      "0.606557377049\n"
     ]
    }
   ],
   "source": [
    "knn_prec = precision_recall_curve(scores_data['true'], scores_data['score_knn'])\n",
    "max_knn_prec_score = max(knn_prec[0][i] for i in np.arange(0,len(knn_prec[0])) if knn_prec[1][i] >= 0.7)\n",
    "print max_knn_prec_score"
   ]
  },
  {
   "cell_type": "code",
   "execution_count": 31,
   "metadata": {
    "collapsed": false
   },
   "outputs": [
    {
     "name": "stdout",
     "output_type": "stream",
     "text": [
      "0.651785714286\n"
     ]
    }
   ],
   "source": [
    "tree_curve = precision_recall_curve(scores_data['true'], scores_data['score_tree'])\n",
    "max_tree_prec_score = max(tree_curve[0][i] for i in np.arange(0,len(tree_curve[0])) if tree_curve[1][i] >= 0.7)\n",
    "print max_tree_prec_score"
   ]
  },
  {
   "cell_type": "code",
   "execution_count": null,
   "metadata": {
    "collapsed": true
   },
   "outputs": [],
   "source": []
  }
 ],
 "metadata": {
  "anaconda-cloud": {},
  "kernelspec": {
   "display_name": "Python [default]",
   "language": "python",
   "name": "python2"
  },
  "language_info": {
   "codemirror_mode": {
    "name": "ipython",
    "version": 2
   },
   "file_extension": ".py",
   "mimetype": "text/x-python",
   "name": "python",
   "nbconvert_exporter": "python",
   "pygments_lexer": "ipython2",
   "version": "2.7.12"
  }
 },
 "nbformat": 4,
 "nbformat_minor": 0
}
