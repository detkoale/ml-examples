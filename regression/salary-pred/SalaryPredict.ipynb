{
 "cells": [
  {
   "cell_type": "code",
   "execution_count": 35,
   "metadata": {
    "collapsed": true
   },
   "outputs": [],
   "source": [
    "import pandas as pd\n",
    "from sklearn.feature_extraction.text import TfidfVectorizer\n",
    "from sklearn.feature_extraction import DictVectorizer\n",
    "from sklearn.linear_model import Ridge\n",
    "from scipy.sparse import hstack\n",
    "import numpy as np"
   ]
  },
  {
   "cell_type": "code",
   "execution_count": 36,
   "metadata": {
    "collapsed": true
   },
   "outputs": [],
   "source": [
    "train_data = pd.read_csv('salary-train.csv')\n",
    "test_data = pd.read_csv('salary-test-mini.csv')"
   ]
  },
  {
   "cell_type": "code",
   "execution_count": 37,
   "metadata": {
    "collapsed": false
   },
   "outputs": [
    {
     "name": "stdout",
     "output_type": "stream",
     "text": [
      "                                     FullDescription LocationNormalized  \\\n",
      "0  We currently have a vacancy for an HR Project ...      Milton Keynes   \n",
      "1  A Web developer opportunity has arisen with an...         Manchester   \n",
      "\n",
      "  ContractTime  SalaryNormalized  \n",
      "0     contract               NaN  \n",
      "1    permanent               NaN  \n"
     ]
    }
   ],
   "source": [
    "print test_data"
   ]
  },
  {
   "cell_type": "code",
   "execution_count": 38,
   "metadata": {
    "collapsed": true
   },
   "outputs": [],
   "source": [
    "#приведем все тексты к нижнему регистру\n",
    "train_data['FullDescription'] = pd.Series(train_data['FullDescription']).str.lower()\n",
    "#train_data['LocationNormalized'] = pd.Series(train_data['LocationNormalized']).str.lower()"
   ]
  },
  {
   "cell_type": "code",
   "execution_count": 39,
   "metadata": {
    "collapsed": true
   },
   "outputs": [],
   "source": [
    "#меняем все, кроме букв и цифр, на пробелы\n",
    "train_data['FullDescription'] = train_data['FullDescription'].replace('[^a-zA-Z0-9]', ' ', regex = True)"
   ]
  },
  {
   "cell_type": "code",
   "execution_count": 69,
   "metadata": {
    "collapsed": false
   },
   "outputs": [
    {
     "name": "stdout",
     "output_type": "stream",
     "text": [
      "FullDescription       False\n",
      "LocationNormalized    False\n",
      "ContractTime          False\n",
      "SalaryNormalized      False\n",
      "dtype: bool\n"
     ]
    }
   ],
   "source": [
    "#заменяем пропуски на слово nan\n",
    "#print train_data.isnull().any()\n",
    "train_data['LocationNormalized'].fillna('nan', inplace=True)\n",
    "train_data['ContractTime'].fillna('nan', inplace=True)"
   ]
  },
  {
   "cell_type": "code",
   "execution_count": 20,
   "metadata": {
    "collapsed": false
   },
   "outputs": [],
   "source": [
    "vectorizer = TfidfVectorizer(min_df=5)\n",
    "X_train_descr = vectorizer.fit_transform(train_data['FullDescription'])\n",
    "X_test_descr = vectorizer.transform(test_data['FullDescription'])"
   ]
  },
  {
   "cell_type": "code",
   "execution_count": 63,
   "metadata": {
    "collapsed": false
   },
   "outputs": [
    {
     "data": {
      "text/plain": [
       "(2, 22879)"
      ]
     },
     "execution_count": 63,
     "metadata": {},
     "output_type": "execute_result"
    }
   ],
   "source": [
    "X_test_descr.shape"
   ]
  },
  {
   "cell_type": "code",
   "execution_count": 80,
   "metadata": {
    "collapsed": false
   },
   "outputs": [],
   "source": [
    "#one-hot кодирование категориальных признаков\n",
    "enc = DictVectorizer()\n",
    "X_train_loc = enc.fit_transform(train_data[['LocationNormalized']].to_dict('records'))\n",
    "X_train_time = enc.transform(train_data[['ContractTime']].to_dict('records'))\n",
    "#X_test_categ = enc.transform(test_data[['LocationNormalized', 'ContractTime']].to_dict('records'))"
   ]
  },
  {
   "cell_type": "code",
   "execution_count": 81,
   "metadata": {
    "collapsed": false
   },
   "outputs": [],
   "source": [
    "#train_X = hstack([X_train_descr, X_train_categ])\n",
    "train_X = hstack([X_train_descr, X_train_loc, X_train_time])"
   ]
  },
  {
   "cell_type": "code",
   "execution_count": 82,
   "metadata": {
    "collapsed": false
   },
   "outputs": [
    {
     "name": "stdout",
     "output_type": "stream",
     "text": [
      "has nan False\n",
      "has inf False\n"
     ]
    }
   ],
   "source": [
    "print 'has nan', np.isnan(train_X.data).any()\n",
    "print 'has inf', np.isinf(train_X.data).any()"
   ]
  },
  {
   "cell_type": "code",
   "execution_count": 84,
   "metadata": {
    "collapsed": false
   },
   "outputs": [
    {
     "data": {
      "text/plain": [
       "(60000, 26405)"
      ]
     },
     "execution_count": 84,
     "metadata": {},
     "output_type": "execute_result"
    }
   ],
   "source": [
    "train_X.shape"
   ]
  },
  {
   "cell_type": "code",
   "execution_count": 83,
   "metadata": {
    "collapsed": false
   },
   "outputs": [
    {
     "data": {
      "text/plain": [
       "Ridge(alpha=1, copy_X=True, fit_intercept=True, max_iter=None,\n",
       "   normalize=False, random_state=241, solver='auto', tol=0.001)"
      ]
     },
     "execution_count": 83,
     "metadata": {},
     "output_type": "execute_result"
    }
   ],
   "source": [
    "train_y = train_data['SalaryNormalized']\n",
    "predictor = Ridge(alpha=1, random_state=241)\n",
    "predictor.fit(train_X, train_y)"
   ]
  },
  {
   "cell_type": "code",
   "execution_count": 88,
   "metadata": {
    "collapsed": false
   },
   "outputs": [
    {
     "name": "stdout",
     "output_type": "stream",
     "text": [
      "54475.1\n",
      "37044.31\n"
     ]
    }
   ],
   "source": [
    "X_test_loc = enc.transform(test_data[['LocationNormalized']].to_dict('records'))\n",
    "X_test_time = enc.transform(test_data[['ContractTime']].to_dict('records'))\n",
    "test_X = hstack([X_test_descr, X_test_loc, X_test_time])\n",
    "\n",
    "test_y = predictor.predict(test_X)\n",
    "print round(test_y[0],2)\n",
    "print round(test_y[1],2)"
   ]
  },
  {
   "cell_type": "code",
   "execution_count": 89,
   "metadata": {
    "collapsed": false
   },
   "outputs": [
    {
     "name": "stdout",
     "output_type": "stream",
     "text": [
      "[ 54475.10183975  37044.30519032]\n"
     ]
    }
   ],
   "source": [
    "print test_y"
   ]
  },
  {
   "cell_type": "code",
   "execution_count": null,
   "metadata": {
    "collapsed": true
   },
   "outputs": [],
   "source": []
  }
 ],
 "metadata": {
  "anaconda-cloud": {},
  "kernelspec": {
   "display_name": "Python [default]",
   "language": "python",
   "name": "python2"
  },
  "language_info": {
   "codemirror_mode": {
    "name": "ipython",
    "version": 2
   },
   "file_extension": ".py",
   "mimetype": "text/x-python",
   "name": "python",
   "nbconvert_exporter": "python",
   "pygments_lexer": "ipython2",
   "version": "2.7.12"
  }
 },
 "nbformat": 4,
 "nbformat_minor": 0
}
